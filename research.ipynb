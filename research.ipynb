{
    "cells": [
        {
            "cell_type": "markdown",
            "metadata": {},
            "source": [
                "![QuantConnect Logo](https://cdn.quantconnect.com/web/i/icon.png)\n",
                "<hr>"
            ]
        },
        {
            "cell_type": "code",
            "execution_count": 15,
            "metadata": {},
            "outputs": [
                {
                    "ename": "ModuleNotFoundError",
                    "evalue": "No module named 'numpy'",
                    "output_type": "error",
                    "traceback": [
                        "\u001b[0;31m---------------------------------------------------------------------------\u001b[0m",
                        "\u001b[0;31mModuleNotFoundError\u001b[0m                       Traceback (most recent call last)",
                        "Cell \u001b[0;32mIn[15], line 5\u001b[0m\n\u001b[1;32m      3\u001b[0m \u001b[38;5;28;01mimport\u001b[39;00m\u001b[38;5;250m \u001b[39m\u001b[38;5;21;01mos\u001b[39;00m\n\u001b[1;32m      4\u001b[0m \u001b[38;5;66;03m#import pandas as pd\u001b[39;00m\n\u001b[0;32m----> 5\u001b[0m \u001b[38;5;28;01mimport\u001b[39;00m\u001b[38;5;250m \u001b[39m\u001b[38;5;21;01mnumpy\u001b[39;00m\u001b[38;5;250m \u001b[39m\u001b[38;5;28;01mas\u001b[39;00m\u001b[38;5;250m \u001b[39m\u001b[38;5;21;01mnp\u001b[39;00m\n\u001b[1;32m      6\u001b[0m \u001b[38;5;28;01mimport\u001b[39;00m\u001b[38;5;250m \u001b[39m\u001b[38;5;21;01msys\u001b[39;00m\u001b[38;5;241m,\u001b[39m\u001b[38;5;250m \u001b[39m\u001b[38;5;21;01mpathlib\u001b[39;00m\n\u001b[1;32m      9\u001b[0m \u001b[38;5;66;03m# se il tuo notebook NON è nella root, sblocca il path:\u001b[39;00m\n\u001b[1;32m     10\u001b[0m \u001b[38;5;66;03m# root = pathlib.Path(__file__).resolve().parent.parent\u001b[39;00m\n\u001b[1;32m     11\u001b[0m \u001b[38;5;66;03m# sys.path.append(str(root))\u001b[39;00m\n\u001b[1;32m     12\u001b[0m \n\u001b[1;32m     13\u001b[0m \u001b[38;5;66;03m# import interni\u001b[39;00m\n",
                        "\u001b[0;31mModuleNotFoundError\u001b[0m: No module named 'numpy'"
                    ]
                }
            ],
            "source": [
                "\n",
                "from AlgorithmImports import *\n",
                "import zipfile\n",
                "import os\n",
                "import pandas as pd\n",
                "import numpy as np\n",
                "import sys, pathlib\n",
                "\n",
                "\n",
                "# se il tuo notebook NON è nella root, sblocca il path:\n",
                "# root = pathlib.Path(__file__).resolve().parent.parent\n",
                "# sys.path.append(str(root))\n",
                "\n",
                "# import interni\n",
                "from utils.indicator_wrapper import IndicatorWrapper\n",
                "from utils.base_strategy     import BaseStrategy, FVGRule, PriceBelowMARule\n",
                "from utils.labeller          import Labeller\n",
                "from utils. strategy import MLStrategy\n",
                "\n",
                "from trading_benchmark import Benchmark\n",
                "\n",
                "from utils.callbacks import CallbackHandler, SystemMonitorCallback\n",
                "from sklearn.metrics import make_scorer\n",
                "from skopt import BayesSearchCV\n",
                "from functools import partial\n",
                "from sklearn.model_selection import TimeSeriesSplit\n",
                "from skopt.space import Real, Categorical, Integer\n",
                "from sklearn.pipeline import Pipeline\n",
                "from xgboost import XGBClassifier\n",
                "from datetime import timedelta\n"
            ]
        },
        {
            "cell_type": "code",
            "execution_count": 2,
            "metadata": {},
            "outputs": [
                {
                    "ename": "NameError",
                    "evalue": "name 'os' is not defined",
                    "output_type": "error",
                    "traceback": [
                        "\u001b[0;31m---------------------------------------------------------------------------\u001b[0m",
                        "\u001b[0;31mNameError\u001b[0m                                 Traceback (most recent call last)",
                        "Cell \u001b[0;32mIn[2], line 4\u001b[0m\n\u001b[1;32m      1\u001b[0m data_path \u001b[38;5;241m=\u001b[39m \u001b[38;5;124m\"\u001b[39m\u001b[38;5;124mdata/equity/usa/minute/spx\u001b[39m\u001b[38;5;124m\"\u001b[39m  \u001b[38;5;66;03m# <-- il tuo path corretto!\u001b[39;00m\n\u001b[1;32m      3\u001b[0m \u001b[38;5;66;03m# Prendi tutti i file zip\u001b[39;00m\n\u001b[0;32m----> 4\u001b[0m files \u001b[38;5;241m=\u001b[39m [os\u001b[38;5;241m.\u001b[39mpath\u001b[38;5;241m.\u001b[39mjoin(data_path, f) \u001b[38;5;28;01mfor\u001b[39;00m f \u001b[38;5;129;01min\u001b[39;00m \u001b[43mos\u001b[49m\u001b[38;5;241m.\u001b[39mlistdir(data_path) \u001b[38;5;28;01mif\u001b[39;00m f\u001b[38;5;241m.\u001b[39mendswith(\u001b[38;5;124m\"\u001b[39m\u001b[38;5;124m.zip\u001b[39m\u001b[38;5;124m\"\u001b[39m)]\n\u001b[1;32m      6\u001b[0m \u001b[38;5;66;03m# Carica tutti gli zip\u001b[39;00m\n\u001b[1;32m      7\u001b[0m dfs \u001b[38;5;241m=\u001b[39m []\n",
                        "\u001b[0;31mNameError\u001b[0m: name 'os' is not defined"
                    ]
                }
            ],
            "source": [
                "data_path = \"data/equity/usa/minute/spx\"  # <-- il tuo path corretto!\n",
                "\n",
                "# Prendi tutti i file zip\n",
                "files = [os.path.join(data_path, f) for f in os.listdir(data_path) if f.endswith(\".zip\")]\n",
                "\n",
                "# Carica tutti gli zip\n",
                "dfs = []\n",
                "for file in files:\n",
                "    with zipfile.ZipFile(file) as z:\n",
                "        with z.open(z.namelist()[0]) as f:\n",
                "            df = pd.read_csv(f)\n",
                "            dfs.append(df)\n",
                "\n",
                "# Unisci i file\n",
                "history = pd.concat(dfs)\n",
                "history = history.sort_values(by=\"time\").reset_index(drop=True)\n",
                "\n",
                "print(history.head())"
            ]
        },
        {
            "cell_type": "code",
            "execution_count": null,
            "metadata": {},
            "outputs": [],
            "source": [
                "\n",
                "window_size = 1000\n",
                "\n",
                "ind_fact = {\n",
                "    \"rsi\":  lambda: IndicatorWrapper(RelativeStrengthIndex(14), \"rsi\"),\n",
                "    \"macd\": lambda: IndicatorWrapper(MovingAverageConvergenceDivergence(12,26,9), \"macd\"),\n",
                "    \"bb\":   lambda: IndicatorWrapper(BollingerBands(20, 2), \"bb\"),\n",
                "    \"ema\":  lambda: IndicatorWrapper(ExponentialMovingAverage(9), \"ema\")\n",
                "}\n",
                "\n",
                "spec_bull = BaseStrategy(\n",
                "    id=\"long_ma20_fvg\",\n",
                "    bias=\"bullish\",\n",
                "    move_threshold=6.0,\n",
                "    rules=[\n",
                "        PriceBelowMARule(ma_period=1, threshold_pct=0.20),\n",
                "        FVGRule(lookback=15, must_retest=True, direction=\"bullish\", body_multiplier=1.5)\n",
                "    ]\n",
                ")\n",
                "\n",
                "labeller_bull = Labeller(spec_bull, lookahead=15)\n",
                "\n",
                "long_strategy = MLStrategy(\n",
                "    indicator_factories=ind_fact,\n",
                "    labeller=labeller_bull,\n",
                "    strategy_id=spec_bull.id,\n",
                "    window_size=window_size\n",
                ")\n",
                "\n",
                "param_space = {\n",
                "    \"classifier__scale_pos_weight\": Real(0.4, 1.0),\n",
                "    \"classifier__n_estimators\": Integer(1000, 1500),\n",
                "    \"classifier__max_depth\": Integer(4, 9),\n",
                "    \"classifier__learning_rate\": Real(0.001, 0.01),\n",
                "    \"classifier__min_child_weight\": Integer(1, 3),\n",
                "}\n",
                "callbacks = [SystemMonitorCallback()]\n",
                "classifier = XGBClassifier(base_score=0.5)\n",
                "\n",
                "search = BayesSearchCV(classifier, param_space, n_iter=10, random_state=42)\n",
                "long_strategy.model_selection(\n",
                "    train_df=history_df,\n",
                "    model=search,\n",
                "    pattern=\"default\",\n",
                "    callbacks=callbacks\n",
                ")\n",
                "benchmark = Benchmark(run_id=\"fx_run\",\n",
                "                                    exp_dir=\"fx_experiments\")\n",
                "benchmark.add_strategy(long_strategy)\n"
            ]
        },
        {
            "cell_type": "code",
            "execution_count": null,
            "metadata": {},
            "outputs": [],
            "source": [
                "\n",
                "warmup_period = 100  # ad esempio aspetti 100 barre prima di generare segnali\n",
                "\n",
                "window = pd.DataFrame()\n",
                "signals = []          \n",
                "times   = []\n",
                "\n",
                "for row in history.itertuples():\n",
                "    # aggiorna la rolling window\n",
                "    window = pd.concat([window, pd.DataFrame([{\n",
                "        \"time\":  row.time,\n",
                "        \"open\":  row.open,\n",
                "        \"high\":  row.high,\n",
                "        \"low\":   row.low,\n",
                "        \"close\": row.close\n",
                "    }])]).tail(window_size)\n",
                "\n",
                "    # aspetta che si riempia bene la finestra e superi anche il warmup\n",
                "    if len(window) < window_size + warmup_period:\n",
                "        signals.append(0)\n",
                "        times.append(row.time)\n",
                "        continue\n",
                "\n",
                "    # ora puoi calcolare la decisione\n",
                "    sig = benchmark.run(window)\n",
                "    signals.append(sig)\n",
                "    times.append(row.time)"
            ]
        },
        {
            "cell_type": "code",
            "execution_count": null,
            "metadata": {},
            "outputs": [],
            "source": [
                "import matplotlib.pyplot as plt\n",
                "\n",
                "price = history.set_index(\"time\")[\"close\"]\n",
                "signal_series = pd.Series(signals, index=times)\n",
                "\n",
                "plt.figure()\n",
                "price.plot(label=\"AUDUSD close\")\n",
                "(signal_series.replace({-1:-0.005, 1:0.005, 0:np.nan}) * price).plot(style='o', label=\"signals\")\n",
                "plt.legend()\n",
                "plt.title(\"Segnali strategy vs prezzo\")\n",
                "plt.show()"
            ]
        }
    ],
    "metadata": {
        "kernelspec": {
            "display_name": "3.10.15",
            "language": "python",
            "name": "python3"
        },
        "language_info": {
            "codemirror_mode": {
                "name": "ipython",
                "version": 3
            },
            "file_extension": ".py",
            "mimetype": "text/x-python",
            "name": "python",
            "nbconvert_exporter": "python",
            "pygments_lexer": "ipython3",
            "version": "3.10.15"
        }
    },
    "nbformat": 4,
    "nbformat_minor": 2
}
